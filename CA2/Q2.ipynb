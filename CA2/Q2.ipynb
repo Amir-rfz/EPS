{
 "cells": [
  {
   "cell_type": "code",
   "execution_count": 7,
   "metadata": {},
   "outputs": [],
   "source": [
    "import sympy\n",
    "import numpy as np\n",
    "import random"
   ]
  },
  {
   "cell_type": "code",
   "execution_count": 8,
   "metadata": {},
   "outputs": [],
   "source": [
    "def monte(n):\n",
    "    counter=0\n",
    "    check=[]\n",
    "    for i in range(n):\n",
    "        check=check+[0]\n",
    "    tedada_type_dide_shode=0\n",
    "    endcheck=False\n",
    "    while(not endcheck):\n",
    "        counter+=1\n",
    "        x=random.randint(0,n-1)\n",
    "        if (check[x]==0):\n",
    "            check[x]=1\n",
    "            tedada_type_dide_shode += 1\n",
    "            if(tedada_type_dide_shode==n):\n",
    "                endcheck=True\n",
    "\n",
    "    return counter   \n",
    "\n",
    "def monte_avg(n,k):\n",
    "    sum=0\n",
    "    for i in range(0,k):\n",
    "        sum += monte(n)\n",
    "    return sum/k\n",
    "        "
   ]
  },
  {
   "cell_type": "code",
   "execution_count": 9,
   "metadata": {},
   "outputs": [
    {
     "name": "stdout",
     "output_type": "stream",
     "text": [
      "36.2\n",
      "28.49\n",
      "29.122\n"
     ]
    }
   ],
   "source": [
    "print(monte_avg(10,10))\n",
    "print(monte_avg(10,100))\n",
    "print(monte_avg(10,1000))"
   ]
  },
  {
   "cell_type": "code",
   "execution_count": 14,
   "metadata": {},
   "outputs": [],
   "source": [
    "def get_mgf(i,n):\n",
    "    s = sympy.symbols('s')\n",
    "    p=(n-(i))/n\n",
    "    MGF=(p*sympy.exp(s))/(1-(1-p)*sympy.exp(s))\n",
    "    return MGF"
   ]
  },
  {
   "cell_type": "code",
   "execution_count": 11,
   "metadata": {},
   "outputs": [],
   "source": [
    "MGFx=1\n",
    "for i in range(10):\n",
    "    MGFx*=get_mgf(i,10)"
   ]
  },
  {
   "cell_type": "code",
   "execution_count": 17,
   "metadata": {},
   "outputs": [
    {
     "name": "stdout",
     "output_type": "stream",
     "text": [
      "29.2896825396826\n"
     ]
    }
   ],
   "source": [
    "s = sympy.symbols('s')\n",
    "deriv = sympy.diff(MGFx, s)\n",
    "print(deriv.subs({s:0}).evalf())"
   ]
  }
 ],
 "metadata": {
  "kernelspec": {
   "display_name": "Python 3",
   "language": "python",
   "name": "python3"
  },
  "language_info": {
   "codemirror_mode": {
    "name": "ipython",
    "version": 3
   },
   "file_extension": ".py",
   "mimetype": "text/x-python",
   "name": "python",
   "nbconvert_exporter": "python",
   "pygments_lexer": "ipython3",
   "version": "3.10.9"
  }
 },
 "nbformat": 4,
 "nbformat_minor": 2
}
